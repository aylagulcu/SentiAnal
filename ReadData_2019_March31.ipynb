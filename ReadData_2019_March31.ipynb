{
 "cells": [
  {
   "cell_type": "code",
   "execution_count": 41,
   "metadata": {},
   "outputs": [],
   "source": [
    "import warnings\n",
    "warnings.filterwarnings('ignore')"
   ]
  },
  {
   "cell_type": "code",
   "execution_count": 42,
   "metadata": {},
   "outputs": [],
   "source": [
    "# Corpus reader:\n",
    "import os\n",
    "root = './Confs_newline/Conf2/'\n",
    "from nltk.corpus.reader import CategorizedPlaintextCorpusReader\n",
    "reader = CategorizedPlaintextCorpusReader(root, r'.*\\.txt', cat_pattern=r'(\\w+)/*', encoding='utf-8')"
   ]
  },
  {
   "cell_type": "code",
   "execution_count": 43,
   "metadata": {},
   "outputs": [
    {
     "name": "stdout",
     "output_type": "stream",
     "text": [
      "['kiz', 'kork', 'mutlu', 'notr', 'uzul']\n",
      "['kiz.txt', 'kork.txt', 'mutlu.txt', 'notr.txt', 'uzul.txt']\n"
     ]
    }
   ],
   "source": [
    "print(reader.categories())\n",
    "print(reader.fileids())"
   ]
  },
  {
   "cell_type": "code",
   "execution_count": 44,
   "metadata": {},
   "outputs": [],
   "source": [
    "def sent_tokenize_whole_tweets(text): # raw text --> whole tweets file content\n",
    "    sentences= []\n",
    "    for line in text.split('\\n'):\n",
    "        line= line.strip()\n",
    "        sentences.append(line)\n",
    "    return sentences"
   ]
  },
  {
   "cell_type": "code",
   "execution_count": 47,
   "metadata": {},
   "outputs": [],
   "source": [
    "all_text=[]\n",
    "labels= []"
   ]
  },
  {
   "cell_type": "code",
   "execution_count": 48,
   "metadata": {},
   "outputs": [
    {
     "name": "stdout",
     "output_type": "stream",
     "text": [
      "3316\n",
      "3316\n"
     ]
    }
   ],
   "source": [
    "for label,file_name in zip(reader.categories(), reader.fileids()):\n",
    "    sentences= sent_tokenize_whole_tweets(reader.raw(file_name)) # --> this should return a list of contents\n",
    "    labels.extend([label for i in sentences])\n",
    "    all_text.extend([i for i in sentences])\n",
    "print(len(labels))\n",
    "print(len(all_text))\n",
    "# Now, we have all tweets in all_text list!"
   ]
  },
  {
   "cell_type": "code",
   "execution_count": 49,
   "metadata": {},
   "outputs": [
    {
     "data": {
      "text/plain": [
       "'hayat ben küs ben hayat küs hatırlaneg ama bu arala fena dargın hayat'"
      ]
     },
     "execution_count": 49,
     "metadata": {},
     "output_type": "execute_result"
    }
   ],
   "source": [
    "all_text[3315]"
   ]
  },
  {
   "cell_type": "code",
   "execution_count": null,
   "metadata": {
    "collapsed": true
   },
   "outputs": [],
   "source": [
    "\n"
   ]
  },
  {
   "cell_type": "code",
   "execution_count": null,
   "metadata": {
    "collapsed": true
   },
   "outputs": [],
   "source": []
  },
  {
   "cell_type": "code",
   "execution_count": 13,
   "metadata": {},
   "outputs": [
    {
     "name": "stdout",
     "output_type": "stream",
     "text": [
      "MultinomialNB(alpha=1.0, class_prior=None, fit_prior=True)\n",
      "fold 1 accuracy: 0.8943089430894309\n",
      "fold 2 accuracy: 0.8943089430894309\n",
      "fold 3 accuracy: 0.9073170731707317\n",
      "fold 4 accuracy: 0.8972267536704731\n",
      "fold 5 accuracy: 0.8972267536704731\n",
      "Mean score: 0.8980776933381079\n",
      " \n",
      "LinearSVC(C=1.0, class_weight=None, dual=True, fit_intercept=True,\n",
      "     intercept_scaling=1, loss='squared_hinge', max_iter=1000,\n",
      "     multi_class='ovr', penalty='l2', random_state=None, tol=0.0001,\n",
      "     verbose=0)\n",
      "fold 1 accuracy: 0.9170731707317074\n",
      "fold 2 accuracy: 0.9382113821138212\n",
      "fold 3 accuracy: 0.9317073170731708\n",
      "fold 4 accuracy: 0.9314845024469821\n",
      "fold 5 accuracy: 0.9298531810766721\n",
      "Mean score: 0.9296659106884707\n",
      " \n"
     ]
    }
   ],
   "source": [
    "# WITH UNIGRAM COUNT VECTORIZER:\n",
    "import numpy as np\n",
    "from sklearn.naive_bayes import MultinomialNB\n",
    "from sklearn.svm import LinearSVC\n",
    "\n",
    "from sklearn.model_selection import StratifiedKFold \n",
    "from sklearn.feature_extraction.text import CountVectorizer\n",
    "from sklearn.metrics import accuracy_score\n",
    "# The folds are made by preserving the percentage of samples for each class.\n",
    "# use the original data, all_text!\n",
    "\n",
    "list_classifier= [MultinomialNB(), LinearSVC()]\n",
    "\n",
    "for clf in list_classifier:\n",
    "    print(clf)\n",
    "    skf = StratifiedKFold(n_splits=5,shuffle=True, random_state=123)\n",
    "    all_text= np.array(all_text)\n",
    "    labels= np.array(labels)\n",
    "    scores= []\n",
    "    i= 1\n",
    "    for train_index, test_index in skf.split(all_text, labels):\n",
    "        X_train, y_train = all_text[train_index], labels[train_index] \n",
    "        X_test, y_test = all_text[test_index], labels[test_index]\n",
    "\n",
    "        train_vectorizer = CountVectorizer()\n",
    "        X_train = train_vectorizer.fit_transform(X_train)\n",
    "        train_vocab= train_vectorizer.vocabulary_   \n",
    "        test_vectorizer = CountVectorizer(vocabulary=train_vocab)\n",
    "        X_test = test_vectorizer.fit_transform(X_test)\n",
    "        clf.fit(X_train, y_train)\n",
    "        sc= accuracy_score(y_test, clf.predict(X_test))\n",
    "        scores.append(sc)\n",
    "        print(\"fold \"+ str(i)+ \" accuracy: \"+ str(sc))\n",
    "        i+= 1\n",
    "    print(\"Mean score: \"+ str(np.mean(scores)))\n",
    "    print(\" \")"
   ]
  },
  {
   "cell_type": "code",
   "execution_count": 16,
   "metadata": {},
   "outputs": [
    {
     "name": "stdout",
     "output_type": "stream",
     "text": [
      "MultinomialNB(alpha=1.0, class_prior=None, fit_prior=True)\n",
      "fold 1 accuracy: 0.8617886178861789\n",
      "fold 2 accuracy: 0.865040650406504\n",
      "fold 3 accuracy: 0.8666666666666667\n",
      "fold 4 accuracy: 0.8564437194127243\n",
      "fold 5 accuracy: 0.8548123980424144\n",
      "Mean score: 0.8609504104828977\n",
      " \n",
      "LinearSVC(C=1.0, class_weight=None, dual=True, fit_intercept=True,\n",
      "     intercept_scaling=1, loss='squared_hinge', max_iter=1000,\n",
      "     multi_class='ovr', penalty='l2', random_state=None, tol=0.0001,\n",
      "     verbose=0)\n",
      "fold 1 accuracy: 0.926829268292683\n",
      "fold 2 accuracy: 0.9398373983739837\n",
      "fold 3 accuracy: 0.9300813008130081\n",
      "fold 4 accuracy: 0.9347471451876019\n",
      "fold 5 accuracy: 0.9298531810766721\n",
      "Mean score: 0.9322696587487899\n",
      " \n"
     ]
    }
   ],
   "source": [
    "# WITH UNIGRAM TF VECTORIZER:\n",
    "import numpy as np\n",
    "from sklearn.naive_bayes import MultinomialNB\n",
    "from sklearn.svm import LinearSVC\n",
    "\n",
    "from sklearn.model_selection import StratifiedKFold \n",
    "from sklearn.feature_extraction.text import CountVectorizer\n",
    "from sklearn.metrics import accuracy_score\n",
    "# The folds are made by preserving the percentage of samples for each class.\n",
    "# use the original data, all_text!\n",
    "\n",
    "from sklearn.feature_extraction.text import TfidfTransformer\n",
    "\n",
    "list_classifier= [MultinomialNB(), LinearSVC()]\n",
    "\n",
    "for clf in list_classifier:\n",
    "    print(clf)\n",
    "    skf = StratifiedKFold(n_splits=5,shuffle=True, random_state=123)\n",
    "    all_text= np.array(all_text)\n",
    "    labels= np.array(labels)\n",
    "    scores= []\n",
    "    i= 1\n",
    "    for train_index, test_index in skf.split(all_text, labels):\n",
    "        X_train, y_train = all_text[train_index], labels[train_index] \n",
    "        X_test, y_test = all_text[test_index], labels[test_index]\n",
    "\n",
    "        train_vectorizer = CountVectorizer()\n",
    "        X_train = train_vectorizer.fit_transform(X_train)\n",
    "        transformer_tf= TfidfTransformer(use_idf= False, norm= 'l2') # if normalize None, it is the same as CountVect\n",
    "        # l2 normalization: like percentage of values\n",
    "        X_train= transformer_tf.fit_transform(X_train)\n",
    "           \n",
    "        train_vocab= train_vectorizer.vocabulary_   \n",
    "        test_vectorizer = CountVectorizer(vocabulary=train_vocab)\n",
    "        X_test = test_vectorizer.fit_transform(X_test)\n",
    "        X_test= transformer_tf.fit_transform(X_test)\n",
    "        \n",
    "        clf.fit(X_train, y_train)\n",
    "        sc= accuracy_score(y_test, clf.predict(X_test))\n",
    "        scores.append(sc)\n",
    "        print(\"fold \"+ str(i)+ \" accuracy: \"+ str(sc))\n",
    "        i+= 1\n",
    "    print(\"Mean score: \"+ str(np.mean(scores)))\n",
    "    print(\" \")\n",
    "\n"
   ]
  },
  {
   "cell_type": "code",
   "execution_count": 17,
   "metadata": {},
   "outputs": [
    {
     "name": "stdout",
     "output_type": "stream",
     "text": [
      "MultinomialNB(alpha=1.0, class_prior=None, fit_prior=True)\n",
      "fold 1 accuracy: 0.8552845528455284\n",
      "fold 2 accuracy: 0.865040650406504\n",
      "fold 3 accuracy: 0.8796747967479674\n",
      "fold 4 accuracy: 0.8548123980424144\n",
      "fold 5 accuracy: 0.8597063621533442\n",
      "Mean score: 0.8629037520391517\n",
      " \n",
      "LinearSVC(C=1.0, class_weight=None, dual=True, fit_intercept=True,\n",
      "     intercept_scaling=1, loss='squared_hinge', max_iter=1000,\n",
      "     multi_class='ovr', penalty='l2', random_state=None, tol=0.0001,\n",
      "     verbose=0)\n",
      "fold 1 accuracy: 0.9252032520325203\n",
      "fold 2 accuracy: 0.9414634146341463\n",
      "fold 3 accuracy: 0.9317073170731708\n",
      "fold 4 accuracy: 0.9363784665579119\n",
      "fold 5 accuracy: 0.9249592169657422\n",
      "Mean score: 0.9319423334526983\n",
      " \n"
     ]
    }
   ],
   "source": [
    "# WITH UNIGRAM TF-idf VECTORIZER:\n",
    "import numpy as np\n",
    "from sklearn.naive_bayes import MultinomialNB\n",
    "from sklearn.svm import LinearSVC\n",
    "\n",
    "from sklearn.model_selection import StratifiedKFold \n",
    "from sklearn.feature_extraction.text import CountVectorizer\n",
    "from sklearn.metrics import accuracy_score\n",
    "# The folds are made by preserving the percentage of samples for each class.\n",
    "# use the original data, all_text!\n",
    "\n",
    "\n",
    "from sklearn.feature_extraction.text import TfidfTransformer\n",
    "\n",
    "list_classifier= [MultinomialNB(), LinearSVC()]\n",
    "\n",
    "for clf in list_classifier:\n",
    "    print(clf)\n",
    "    skf = StratifiedKFold(n_splits=5,shuffle=True, random_state=123)\n",
    "    all_text= np.array(all_text)\n",
    "    labels= np.array(labels)\n",
    "    scores= []\n",
    "    i= 1\n",
    "    for train_index, test_index in skf.split(all_text, labels):\n",
    "        X_train, y_train = all_text[train_index], labels[train_index] \n",
    "        X_test, y_test = all_text[test_index], labels[test_index]\n",
    "\n",
    "        train_vectorizer = CountVectorizer()\n",
    "        X_train = train_vectorizer.fit_transform(X_train)\n",
    "        transformer_tf= TfidfTransformer(use_idf= True, norm= 'l2', smooth_idf=True) \n",
    "        # if normalize None, it is the same as CountVect\n",
    "        # l2 normalization: like percentage of values\n",
    "        X_train= transformer_tf.fit_transform(X_train)\n",
    "           \n",
    "        train_vocab= train_vectorizer.vocabulary_   \n",
    "        test_vectorizer = CountVectorizer(vocabulary=train_vocab)\n",
    "        X_test = test_vectorizer.fit_transform(X_test)\n",
    "        X_test= transformer_tf.fit_transform(X_test)\n",
    "        \n",
    "        clf.fit(X_train, y_train)\n",
    "        sc= accuracy_score(y_test, clf.predict(X_test))\n",
    "        scores.append(sc)\n",
    "        print(\"fold \"+ str(i)+ \" accuracy: \"+ str(sc))\n",
    "        i+= 1\n",
    "    print(\"Mean score: \"+ str(np.mean(scores)))\n",
    "    print(\" \")\n",
    "\n"
   ]
  },
  {
   "cell_type": "code",
   "execution_count": null,
   "metadata": {
    "collapsed": true
   },
   "outputs": [],
   "source": []
  },
  {
   "cell_type": "code",
   "execution_count": null,
   "metadata": {
    "collapsed": true
   },
   "outputs": [],
   "source": []
  },
  {
   "cell_type": "code",
   "execution_count": null,
   "metadata": {
    "collapsed": true
   },
   "outputs": [],
   "source": []
  },
  {
   "cell_type": "code",
   "execution_count": null,
   "metadata": {
    "collapsed": true
   },
   "outputs": [],
   "source": []
  },
  {
   "cell_type": "code",
   "execution_count": null,
   "metadata": {
    "collapsed": true
   },
   "outputs": [],
   "source": []
  },
  {
   "cell_type": "code",
   "execution_count": null,
   "metadata": {
    "collapsed": true
   },
   "outputs": [],
   "source": []
  },
  {
   "cell_type": "markdown",
   "metadata": {},
   "source": [
    "### Look at the following small examples to ensure that everything works as expected:"
   ]
  },
  {
   "cell_type": "code",
   "execution_count": null,
   "metadata": {},
   "outputs": [],
   "source": [
    "from sklearn.feature_extraction.text import CountVectorizer\n",
    ">>> corpus = [\n",
    "...     'This is the first document.',\n",
    "...     'This document is the second document.',\n",
    "...     'And this is the third one.',\n",
    "...     'Is this the first document?',\n",
    "... ]\n",
    "vectorizer = CountVectorizer()\n",
    "X = vectorizer.fit_transform(corpus)\n",
    "print(vectorizer.get_feature_names())\n",
    "print(X.toarray().shape)  "
   ]
  },
  {
   "cell_type": "code",
   "execution_count": null,
   "metadata": {},
   "outputs": [],
   "source": [
    "from sklearn.feature_extraction.text import TfidfTransformer\n",
    "transformer_tf= TfidfTransformer(use_idf= False, norm=None)\n",
    "\n",
    "X_tf= transformer_tf.fit_transform(X)\n",
    "print(X_tf.toarray())  "
   ]
  },
  {
   "cell_type": "code",
   "execution_count": null,
   "metadata": {},
   "outputs": [],
   "source": [
    "transformer_tfidf= TfidfTransformer(use_idf= True, norm=None)\n",
    "\n",
    "X_tfidf= transformer_tfidf.fit_transform(X)\n",
    "print(X_tfidf.toarray()) "
   ]
  },
  {
   "cell_type": "code",
   "execution_count": null,
   "metadata": {},
   "outputs": [],
   "source": [
    "import numpy as np\n",
    "print((X.toarray()).shape[0])\n",
    "print((X.toarray()).shape[1])\n",
    "X_binary= np.zeros(((X.toarray()).shape[0],(X.toarray()).shape[1]))\n",
    "print(X_binary.shape)\n",
    "for i in range(len(X.toarray())):\n",
    "    for j in range(len(X.toarray()[i])):\n",
    "        if X.toarray()[i,j]>0:\n",
    "            X_binary[i,j]= True\n",
    "        else:\n",
    "            X_binary[i,j]= False\n",
    "print(X_binary)"
   ]
  },
  {
   "cell_type": "code",
   "execution_count": null,
   "metadata": {
    "collapsed": true
   },
   "outputs": [],
   "source": []
  },
  {
   "cell_type": "code",
   "execution_count": null,
   "metadata": {
    "collapsed": true
   },
   "outputs": [],
   "source": []
  },
  {
   "cell_type": "code",
   "execution_count": null,
   "metadata": {
    "collapsed": true
   },
   "outputs": [],
   "source": []
  }
 ],
 "metadata": {
  "kernelspec": {
   "display_name": "Python 3",
   "language": "python",
   "name": "python3"
  },
  "language_info": {
   "codemirror_mode": {
    "name": "ipython",
    "version": 3
   },
   "file_extension": ".py",
   "mimetype": "text/x-python",
   "name": "python",
   "nbconvert_exporter": "python",
   "pygments_lexer": "ipython3",
   "version": "3.6.6"
  }
 },
 "nbformat": 4,
 "nbformat_minor": 2
}
