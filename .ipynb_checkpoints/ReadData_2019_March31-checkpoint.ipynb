{
 "cells": [
  {
   "cell_type": "code",
   "execution_count": 1,
   "metadata": {},
   "outputs": [],
   "source": [
    "import warnings\n",
    "warnings.filterwarnings('ignore')"
   ]
  },
  {
   "cell_type": "code",
   "execution_count": 2,
   "metadata": {},
   "outputs": [],
   "source": [
    "# Corpus reader:\n",
    "import os\n",
    "root = './Confs_newline/Conf2/'\n",
    "from nltk.corpus.reader import CategorizedPlaintextCorpusReader\n",
    "reader = CategorizedPlaintextCorpusReader(root, r'.*\\.txt', cat_pattern=r'(\\w+)/*', encoding='utf-8')"
   ]
  },
  {
   "cell_type": "code",
   "execution_count": 3,
   "metadata": {},
   "outputs": [
    {
     "name": "stdout",
     "output_type": "stream",
     "text": [
      "['kiz', 'kork', 'mutlu', 'notr', 'uzul']\n",
      "['kiz.txt', 'kork.txt', 'mutlu.txt', 'notr.txt', 'uzul.txt']\n"
     ]
    }
   ],
   "source": [
    "print(reader.categories())\n",
    "print(reader.fileids())"
   ]
  },
  {
   "cell_type": "code",
   "execution_count": 4,
   "metadata": {},
   "outputs": [],
   "source": [
    "def sent_tokenize_whole_tweets(text): # raw text --> whole tweets file content\n",
    "    sentences= []\n",
    "    for line in text.split('\\n'):\n",
    "        line= line.strip()\n",
    "        sentences.append(line)\n",
    "    return sentences"
   ]
  },
  {
   "cell_type": "code",
   "execution_count": 5,
   "metadata": {},
   "outputs": [],
   "source": [
    "all_text=[]\n",
    "labels= []"
   ]
  },
  {
   "cell_type": "code",
   "execution_count": 6,
   "metadata": {},
   "outputs": [
    {
     "name": "stdout",
     "output_type": "stream",
     "text": [
      "3316\n",
      "3316\n"
     ]
    }
   ],
   "source": [
    "for label,file_name in zip(reader.categories(), reader.fileids()):\n",
    "    sentences= sent_tokenize_whole_tweets(reader.raw(file_name)) # --> this should return a list of contents\n",
    "    labels.extend([label for i in sentences])\n",
    "    all_text.extend([i for i in sentences])\n",
    "print(len(labels))\n",
    "print(len(all_text))\n",
    "# Now, we have all tweets in all_text list!"
   ]
  },
  {
   "cell_type": "code",
   "execution_count": 7,
   "metadata": {},
   "outputs": [
    {
     "data": {
      "text/plain": [
       "'hayat ben küs ben hayat küs hatırlaneg ama bu arala fena dargın hayat'"
      ]
     },
     "execution_count": 7,
     "metadata": {},
     "output_type": "execute_result"
    }
   ],
   "source": [
    "all_text[3315]"
   ]
  },
  {
   "cell_type": "code",
   "execution_count": 8,
   "metadata": {},
   "outputs": [
    {
     "name": "stdout",
     "output_type": "stream",
     "text": [
      "MultinomialNB(alpha=1.0, class_prior=None, fit_prior=True)\n",
      "fold 1 accuracy: 0.8345864661654135\n",
      "fold 2 accuracy: 0.8463855421686747\n",
      "fold 3 accuracy: 0.8491704374057315\n",
      "fold 4 accuracy: 0.8235294117647058\n",
      "fold 5 accuracy: 0.8350983358547656\n",
      "Mean score: 0.8377540386718583\n",
      " \n",
      "LinearSVC(C=1.0, class_weight=None, dual=True, fit_intercept=True,\n",
      "     intercept_scaling=1, loss='squared_hinge', max_iter=1000,\n",
      "     multi_class='ovr', penalty='l2', random_state=None, tol=0.0001,\n",
      "     verbose=0)\n",
      "fold 1 accuracy: 0.8661654135338346\n",
      "fold 2 accuracy: 0.8780120481927711\n",
      "fold 3 accuracy: 0.8778280542986425\n",
      "fold 4 accuracy: 0.8778280542986425\n",
      "fold 5 accuracy: 0.8774583963691377\n",
      "Mean score: 0.8754583933386056\n",
      " \n"
     ]
    }
   ],
   "source": [
    "# WITH UNIGRAM COUNT VECTORIZER:\n",
    "import numpy as np\n",
    "from sklearn.naive_bayes import MultinomialNB\n",
    "from sklearn.svm import LinearSVC\n",
    "\n",
    "from sklearn.model_selection import StratifiedKFold \n",
    "from sklearn.feature_extraction.text import CountVectorizer\n",
    "from sklearn.metrics import accuracy_score\n",
    "# The folds are made by preserving the percentage of samples for each class.\n",
    "# use the original data, all_text!\n",
    "\n",
    "list_classifier= [MultinomialNB(), LinearSVC()]\n",
    "\n",
    "for clf in list_classifier:\n",
    "    print(clf)\n",
    "    skf = StratifiedKFold(n_splits=5,shuffle=True, random_state=123)\n",
    "    all_text= np.array(all_text)\n",
    "    labels= np.array(labels)\n",
    "    scores= []\n",
    "    i= 1\n",
    "    for train_index, test_index in skf.split(all_text, labels):\n",
    "        X_train, y_train = all_text[train_index], labels[train_index] \n",
    "        X_test, y_test = all_text[test_index], labels[test_index]\n",
    "\n",
    "        train_vectorizer = CountVectorizer()\n",
    "        X_train = train_vectorizer.fit_transform(X_train)\n",
    "        train_vocab= train_vectorizer.vocabulary_   \n",
    "        test_vectorizer = CountVectorizer(vocabulary=train_vocab)\n",
    "        X_test = test_vectorizer.fit_transform(X_test)\n",
    "        clf.fit(X_train, y_train)\n",
    "        sc= accuracy_score(y_test, clf.predict(X_test))\n",
    "        scores.append(sc)\n",
    "        print(\"fold \"+ str(i)+ \" accuracy: \"+ str(sc))\n",
    "        i+= 1\n",
    "    print(\"Mean score: \"+ str(np.mean(scores)))\n",
    "    print(\" \")"
   ]
  },
  {
   "cell_type": "code",
   "execution_count": 9,
   "metadata": {},
   "outputs": [
    {
     "name": "stdout",
     "output_type": "stream",
     "text": [
      "MultinomialNB(alpha=1.0, class_prior=None, fit_prior=True)\n",
      "fold 1 accuracy: 0.8\n",
      "fold 2 accuracy: 0.7966867469879518\n",
      "fold 3 accuracy: 0.8054298642533937\n",
      "fold 4 accuracy: 0.77526395173454\n",
      "fold 5 accuracy: 0.81089258698941\n",
      "Mean score: 0.7976546299930591\n",
      " \n",
      "LinearSVC(C=1.0, class_weight=None, dual=True, fit_intercept=True,\n",
      "     intercept_scaling=1, loss='squared_hinge', max_iter=1000,\n",
      "     multi_class='ovr', penalty='l2', random_state=None, tol=0.0001,\n",
      "     verbose=0)\n",
      "fold 1 accuracy: 0.8857142857142857\n",
      "fold 2 accuracy: 0.8855421686746988\n",
      "fold 3 accuracy: 0.8868778280542986\n",
      "fold 4 accuracy: 0.8883861236802413\n",
      "fold 5 accuracy: 0.8835098335854765\n",
      "Mean score: 0.8860060479418002\n",
      " \n"
     ]
    }
   ],
   "source": [
    "# WITH UNIGRAM TF VECTORIZER:\n",
    "import numpy as np\n",
    "from sklearn.naive_bayes import MultinomialNB\n",
    "from sklearn.svm import LinearSVC\n",
    "\n",
    "from sklearn.model_selection import StratifiedKFold \n",
    "from sklearn.feature_extraction.text import CountVectorizer\n",
    "from sklearn.metrics import accuracy_score\n",
    "# The folds are made by preserving the percentage of samples for each class.\n",
    "# use the original data, all_text!\n",
    "\n",
    "from sklearn.feature_extraction.text import TfidfTransformer\n",
    "\n",
    "list_classifier= [MultinomialNB(), LinearSVC()]\n",
    "\n",
    "for clf in list_classifier:\n",
    "    print(clf)\n",
    "    skf = StratifiedKFold(n_splits=5,shuffle=True, random_state=123)\n",
    "    all_text= np.array(all_text)\n",
    "    labels= np.array(labels)\n",
    "    scores= []\n",
    "    i= 1\n",
    "    for train_index, test_index in skf.split(all_text, labels):\n",
    "        X_train, y_train = all_text[train_index], labels[train_index] \n",
    "        X_test, y_test = all_text[test_index], labels[test_index]\n",
    "\n",
    "        train_vectorizer = CountVectorizer()\n",
    "        X_train = train_vectorizer.fit_transform(X_train)\n",
    "        transformer_tf= TfidfTransformer(use_idf= False, norm= 'l2') # if normalize None, it is the same as CountVect\n",
    "        # l2 normalization: like percentage of values\n",
    "        X_train= transformer_tf.fit_transform(X_train)\n",
    "           \n",
    "        train_vocab= train_vectorizer.vocabulary_   \n",
    "        test_vectorizer = CountVectorizer(vocabulary=train_vocab)\n",
    "        X_test = test_vectorizer.fit_transform(X_test)\n",
    "        X_test= transformer_tf.fit_transform(X_test)\n",
    "        \n",
    "        clf.fit(X_train, y_train)\n",
    "        sc= accuracy_score(y_test, clf.predict(X_test))\n",
    "        scores.append(sc)\n",
    "        print(\"fold \"+ str(i)+ \" accuracy: \"+ str(sc))\n",
    "        i+= 1\n",
    "    print(\"Mean score: \"+ str(np.mean(scores)))\n",
    "    print(\" \")\n",
    "\n"
   ]
  },
  {
   "cell_type": "code",
   "execution_count": 10,
   "metadata": {},
   "outputs": [
    {
     "name": "stdout",
     "output_type": "stream",
     "text": [
      "MultinomialNB(alpha=1.0, class_prior=None, fit_prior=True)\n",
      "fold 1 accuracy: 0.8\n",
      "fold 2 accuracy: 0.8012048192771084\n",
      "fold 3 accuracy: 0.8069381598793364\n",
      "fold 4 accuracy: 0.7782805429864253\n",
      "fold 5 accuracy: 0.8093797276853253\n",
      "Mean score: 0.799160649965639\n",
      " \n",
      "LinearSVC(C=1.0, class_weight=None, dual=True, fit_intercept=True,\n",
      "     intercept_scaling=1, loss='squared_hinge', max_iter=1000,\n",
      "     multi_class='ovr', penalty='l2', random_state=None, tol=0.0001,\n",
      "     verbose=0)\n",
      "fold 1 accuracy: 0.8872180451127819\n",
      "fold 2 accuracy: 0.8855421686746988\n",
      "fold 3 accuracy: 0.8838612368024132\n",
      "fold 4 accuracy: 0.8838612368024132\n",
      "fold 5 accuracy: 0.8789712556732224\n",
      "Mean score: 0.8838907886131059\n",
      " \n"
     ]
    }
   ],
   "source": [
    "# WITH UNIGRAM TF-idf VECTORIZER:\n",
    "import numpy as np\n",
    "from sklearn.naive_bayes import MultinomialNB\n",
    "from sklearn.svm import LinearSVC\n",
    "\n",
    "from sklearn.model_selection import StratifiedKFold \n",
    "from sklearn.feature_extraction.text import CountVectorizer\n",
    "from sklearn.metrics import accuracy_score\n",
    "# The folds are made by preserving the percentage of samples for each class.\n",
    "# use the original data, all_text!\n",
    "\n",
    "\n",
    "from sklearn.feature_extraction.text import TfidfTransformer\n",
    "\n",
    "list_classifier= [MultinomialNB(), LinearSVC()]\n",
    "\n",
    "for clf in list_classifier:\n",
    "    print(clf)\n",
    "    skf = StratifiedKFold(n_splits=5,shuffle=True, random_state=123)\n",
    "    all_text= np.array(all_text)\n",
    "    labels= np.array(labels)\n",
    "    scores= []\n",
    "    i= 1\n",
    "    for train_index, test_index in skf.split(all_text, labels):\n",
    "        X_train, y_train = all_text[train_index], labels[train_index] \n",
    "        X_test, y_test = all_text[test_index], labels[test_index]\n",
    "\n",
    "        train_vectorizer = CountVectorizer()\n",
    "        X_train = train_vectorizer.fit_transform(X_train)\n",
    "        transformer_tf= TfidfTransformer(use_idf= True, norm= 'l2', smooth_idf=True) \n",
    "        # if normalize None, it is the same as CountVect\n",
    "        # l2 normalization: like percentage of values\n",
    "        X_train= transformer_tf.fit_transform(X_train)\n",
    "           \n",
    "        train_vocab= train_vectorizer.vocabulary_   \n",
    "        test_vectorizer = CountVectorizer(vocabulary=train_vocab)\n",
    "        X_test = test_vectorizer.fit_transform(X_test)\n",
    "        X_test= transformer_tf.fit_transform(X_test)\n",
    "        \n",
    "        clf.fit(X_train, y_train)\n",
    "        sc= accuracy_score(y_test, clf.predict(X_test))\n",
    "        scores.append(sc)\n",
    "        print(\"fold \"+ str(i)+ \" accuracy: \"+ str(sc))\n",
    "        i+= 1\n",
    "    print(\"Mean score: \"+ str(np.mean(scores)))\n",
    "    print(\" \")\n",
    "\n"
   ]
  },
  {
   "cell_type": "code",
   "execution_count": null,
   "metadata": {
    "collapsed": true
   },
   "outputs": [],
   "source": []
  },
  {
   "cell_type": "code",
   "execution_count": null,
   "metadata": {
    "collapsed": true
   },
   "outputs": [],
   "source": []
  }
 ],
 "metadata": {
  "kernelspec": {
   "display_name": "Python 3",
   "language": "python",
   "name": "python3"
  },
  "language_info": {
   "codemirror_mode": {
    "name": "ipython",
    "version": 3
   },
   "file_extension": ".py",
   "mimetype": "text/x-python",
   "name": "python",
   "nbconvert_exporter": "python",
   "pygments_lexer": "ipython3",
   "version": "3.6.6"
  }
 },
 "nbformat": 4,
 "nbformat_minor": 2
}
