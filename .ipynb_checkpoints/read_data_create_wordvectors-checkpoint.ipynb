{
 "cells": [
  {
   "cell_type": "markdown",
   "metadata": {},
   "source": [
    "# Pre-process all the data\n",
    "\n",
    "Running the code cell below will pre-process all the data and save it to file. You're encouraged to lok at the code for `preprocess_and_save_data` in the `helpers.py` file to see what it's doing in detail, but you do not need to change this code."
   ]
  },
  {
   "cell_type": "code",
   "execution_count": 60,
   "metadata": {},
   "outputs": [],
   "source": [
    "# Corpus reader:\n",
    "import os\n",
    "root = './Confs_newline/Conf2/'\n",
    "from nltk.corpus.reader import CategorizedPlaintextCorpusReader\n",
    "reader = CategorizedPlaintextCorpusReader(root, r'.*\\.txt', cat_pattern=r'(\\w+)/*', encoding='utf-8')"
   ]
  },
  {
   "cell_type": "code",
   "execution_count": 61,
   "metadata": {},
   "outputs": [
    {
     "name": "stdout",
     "output_type": "stream",
     "text": [
      "['kiz', 'kork', 'mutlu', 'notr', 'uzul']\n",
      "['kiz.txt', 'kork.txt', 'mutlu.txt', 'notr.txt', 'uzul.txt']\n"
     ]
    }
   ],
   "source": [
    "print(reader.categories())\n",
    "print(reader.fileids())"
   ]
  },
  {
   "cell_type": "code",
   "execution_count": 62,
   "metadata": {},
   "outputs": [],
   "source": [
    "### First, tokenize Punctuation: \n",
    "# create a token dictionary:\n",
    "punc_dict= {'.':'||PERIOD||', ',': '||COMMA||', '\"': '||QUOTATION_MARK||', ';': '||SEMICOLON||',\n",
    "                '!': '||EXCLAMATION_MARK||', '?': '||QUESTION_MARK||', '(': '||LEFT_PAREN||',\n",
    "                ')': '||RIGHT_PAREN||', '?': '||QUESTION_MARK||', \n",
    "                '\\n': '||NEW_LINE||', '-': '||DASH||'}"
   ]
  },
  {
   "cell_type": "code",
   "execution_count": 63,
   "metadata": {},
   "outputs": [],
   "source": [
    "def sent_tokenize_whole_tweets(text): # raw text --> whole tweets file content\n",
    "    for key, token in punc_dict.items():\n",
    "        text = text.replace(key, ' {} '.format(token))\n",
    "\n",
    "    sentences= []\n",
    "    for line in text.split('||NEW_LINE||'):\n",
    "        line= line.strip()\n",
    "        sentences.append(line)\n",
    "    return sentences"
   ]
  },
  {
   "cell_type": "code",
   "execution_count": 64,
   "metadata": {},
   "outputs": [],
   "source": [
    "all_text=[]\n",
    "labels= []"
   ]
  },
  {
   "cell_type": "code",
   "execution_count": 65,
   "metadata": {},
   "outputs": [
    {
     "name": "stdout",
     "output_type": "stream",
     "text": [
      "3317\n",
      "3317\n"
     ]
    }
   ],
   "source": [
    "for label,file_name in zip(reader.categories(), reader.fileids()):\n",
    "    sentences= sent_tokenize_whole_tweets(reader.raw(file_name)) # --> this should return a list of contents\n",
    "    labels.extend([label for i in sentences])\n",
    "    all_text.extend([i.lower() for i in sentences])\n",
    "print(len(labels))\n",
    "print(len(all_text))\n",
    "# Now, we have all tweets in all_text list!"
   ]
  },
  {
   "cell_type": "markdown",
   "metadata": {
    "collapsed": true
   },
   "source": [
    "## Transforming Text into Numbers"
   ]
  },
  {
   "cell_type": "code",
   "execution_count": 66,
   "metadata": {},
   "outputs": [
    {
     "name": "stdout",
     "output_type": "stream",
     "text": [
      "Number of unique words: 3704 \n"
     ]
    }
   ],
   "source": [
    "word_counts={}\n",
    "for i in range(len(all_text)):\n",
    "    for word in all_text[i].split(\" \"):\n",
    "        word_counts[word] = word_counts.get(word,0) +1\n",
    "\n",
    "vocab = set(word_counts.keys())\n",
    "vocab_size = len(vocab)\n",
    "print(\"Number of unique words: {} \".format(vocab_size))\n",
    "\n",
    "sorted_word_counts= sorted(word_counts, key= word_counts.get, reverse= True)\n",
    "\n",
    "int_to_vocab= {ii: word for ii,word in enumerate(sorted_word_counts)}\n",
    "vocab_to_int= {word: ii for ii, word in int_to_vocab.items()}\n"
   ]
  },
  {
   "cell_type": "code",
   "execution_count": 67,
   "metadata": {},
   "outputs": [
    {
     "data": {
      "text/plain": [
       "'çok kız ||exclamation_mark||  ne kadar ayıp şey'"
      ]
     },
     "execution_count": 67,
     "metadata": {},
     "output_type": "execute_result"
    }
   ],
   "source": [
    "all_text[0]"
   ]
  },
  {
   "cell_type": "code",
   "execution_count": 68,
   "metadata": {},
   "outputs": [
    {
     "data": {
      "text/plain": [
       "'kiz'"
      ]
     },
     "execution_count": 68,
     "metadata": {},
     "output_type": "execute_result"
    }
   ],
   "source": [
    "labels[0]"
   ]
  },
  {
   "cell_type": "code",
   "execution_count": null,
   "metadata": {},
   "outputs": [],
   "source": []
  }
 ],
 "metadata": {
  "kernelspec": {
   "display_name": "Python 3",
   "language": "python",
   "name": "python3"
  },
  "language_info": {
   "codemirror_mode": {
    "name": "ipython",
    "version": 3
   },
   "file_extension": ".py",
   "mimetype": "text/x-python",
   "name": "python",
   "nbconvert_exporter": "python",
   "pygments_lexer": "ipython3",
   "version": "3.6.6"
  }
 },
 "nbformat": 4,
 "nbformat_minor": 2
}
