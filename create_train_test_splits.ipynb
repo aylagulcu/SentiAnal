{
 "cells": [
  {
   "cell_type": "code",
   "execution_count": 8,
   "metadata": {},
   "outputs": [],
   "source": [
    "import warnings\n",
    "warnings.filterwarnings('ignore')"
   ]
  },
  {
   "cell_type": "code",
   "execution_count": 9,
   "metadata": {},
   "outputs": [
    {
     "name": "stdout",
     "output_type": "stream",
     "text": [
      "['kiz', 'kork', 'mutlu', 'notr', 'uzul']\n",
      "['kiz.txt', 'kork.txt', 'mutlu.txt', 'notr.txt', 'uzul.txt']\n",
      "3316\n",
      "3316\n"
     ]
    }
   ],
   "source": [
    "%run read_data.ipynb"
   ]
  },
  {
   "cell_type": "code",
   "execution_count": 10,
   "metadata": {},
   "outputs": [
    {
     "data": {
      "text/plain": [
       "['çok kız ne kadar ayıp şey',\n",
       " 'koku çok kız çünkü ayva ben tek arkadaş  insan var kendi git gibi tek arkadaş götür yan',\n",
       " 'hayır çok sev dizi yani aşırı kız',\n",
       " 'buna kız de evet ona kız ney kız kızneg sen mantık göre belirleneg kusur bakneg',\n",
       " 'kız ve çok üzül',\n",
       " 'kız bu geç ama aynı zaman kır bu nasıl geç',\n",
       " 'of ben yet çok kız karakter  ne güncelneg yap herkes vere zor ne adam',\n",
       " 'bak kendi çok kız şu sen muhatap al için oku için bekle',\n",
       " 'sonra durul küs kız biz bu kadar gönül bu takım sar o herkes met et futbol defans ton',\n",
       " 'evet çok sev hem de gül bir durum görneg sine çok kız']"
      ]
     },
     "execution_count": 10,
     "metadata": {},
     "output_type": "execute_result"
    }
   ],
   "source": [
    "all_text[:10]"
   ]
  },
  {
   "cell_type": "code",
   "execution_count": 11,
   "metadata": {},
   "outputs": [],
   "source": [
    "# Create train - test splits\n",
    "# test data will never be seen by the classifiers. \n",
    "# This left-out data will be used to test the NN as well.\n",
    "import random\n",
    "import numpy as np\n",
    "\n",
    "# parameters #\n",
    "train_ratio= 0.8\n",
    "test_ratio= 0.2\n",
    "SEED= 1\n",
    "random.seed= SEED\n",
    "#########\n",
    "\n",
    "all_data_count = len(all_text)\n",
    "indices = list(range(all_data_count))\n",
    "np.random.shuffle(indices) # first, shuffle the data! Do not miss this part!\n",
    "\n",
    "split = int(np.floor(test_ratio * all_data_count))\n",
    "train_idx, test_idx = indices[split:], indices[:split]\n"
   ]
  },
  {
   "cell_type": "code",
   "execution_count": 12,
   "metadata": {},
   "outputs": [],
   "source": [
    "# test data will never be seen by the classifiers. This left-out data will be used to test the NN as well.\n",
    "\n",
    "all_text_train= [all_text[i] for i in train_idx]\n",
    "labels_train= [labels[i] for i in train_idx]\n",
    "all_text_test= [all_text[i] for i in test_idx]\n",
    "labels_train=  [labels[i] for i in test_idx]"
   ]
  },
  {
   "cell_type": "code",
   "execution_count": 13,
   "metadata": {},
   "outputs": [
    {
     "data": {
      "text/plain": [
       "'kimi gönül alla ile mutlu ol onu gör herkes göz aydın ol kahya muz'"
      ]
     },
     "execution_count": 13,
     "metadata": {},
     "output_type": "execute_result"
    }
   ],
   "source": [
    "all_text_train[0]"
   ]
  },
  {
   "cell_type": "markdown",
   "metadata": {},
   "source": []
  },
  {
   "cell_type": "code",
   "execution_count": 14,
   "metadata": {},
   "outputs": [
    {
     "ename": "NameError",
     "evalue": "name 'helper' is not defined",
     "output_type": "error",
     "traceback": [
      "\u001b[0;31m---------------------------------------------------------------------------\u001b[0m",
      "\u001b[0;31mNameError\u001b[0m                                 Traceback (most recent call last)",
      "\u001b[0;32m<ipython-input-14-eddb83905c5e>\u001b[0m in \u001b[0;36m<module>\u001b[0;34m()\u001b[0m\n\u001b[1;32m      1\u001b[0m \u001b[0;31m# pre-process training data\u001b[0m\u001b[0;34m\u001b[0m\u001b[0;34m\u001b[0m\u001b[0m\n\u001b[0;32m----> 2\u001b[0;31m \u001b[0mhelper\u001b[0m\u001b[0;34m.\u001b[0m\u001b[0mpreprocess_and_save_data\u001b[0m\u001b[0;34m(\u001b[0m\u001b[0mdata_dir\u001b[0m\u001b[0;34m,\u001b[0m \u001b[0mtoken_lookup\u001b[0m\u001b[0;34m,\u001b[0m \u001b[0mcreate_lookup_tables\u001b[0m\u001b[0;34m)\u001b[0m\u001b[0;34m\u001b[0m\u001b[0m\n\u001b[0m",
      "\u001b[0;31mNameError\u001b[0m: name 'helper' is not defined"
     ]
    }
   ],
   "source": [
    "# pre-process training data\n",
    "import helper\n",
    "data_dir = './data/Seinfeld_Scripts.txt'\n",
    "helper.preprocess_and_save_data(data_dir, token_lookup, create_lookup_tables)"
   ]
  },
  {
   "cell_type": "code",
   "execution_count": 18,
   "metadata": {},
   "outputs": [
    {
     "name": "stdout",
     "output_type": "stream",
     "text": [
      "3323\n"
     ]
    }
   ],
   "source": [
    "# create words counts dictionary and the vocabulary:\n",
    "total_counts={}\n",
    "for i in range(len(all_text_train)):\n",
    "    for word in all_text_train[i].split(\" \"):\n",
    "        total_counts[word] = total_counts.get(word,0) +1\n",
    "\n",
    "vocab = set(total_counts.keys())\n",
    "vocab_size = len(vocab)\n",
    "print(vocab_size)"
   ]
  },
  {
   "cell_type": "code",
   "execution_count": null,
   "metadata": {},
   "outputs": [],
   "source": []
  },
  {
   "cell_type": "code",
   "execution_count": 19,
   "metadata": {},
   "outputs": [],
   "source": [
    "layer_0 = np.zeros((1,vocab_size))"
   ]
  },
  {
   "cell_type": "code",
   "execution_count": null,
   "metadata": {},
   "outputs": [],
   "source": [
    "# Create a dictionary of words in the vocabulary mapped to index positions \n",
    "# (to be used in layer_0)\n",
    "word2index = {}\n",
    "for i,word in enumerate(vocab):\n",
    "    word2index[word] = i\n",
    "    \n",
    "# display the map of words to indices\n",
    "word2index"
   ]
  },
  {
   "cell_type": "code",
   "execution_count": 42,
   "metadata": {},
   "outputs": [],
   "source": [
    "def update_input_layer(review):\n",
    "    \"\"\" Modify the global layer_0 to represent the vector form of review.\n",
    "    The element at a given index of layer_0 should represent\n",
    "    how many times the given word occurs in the review.\n",
    "    Args:\n",
    "        review(string) - the string of the review\n",
    "    Returns:\n",
    "        None\n",
    "    \"\"\"\n",
    "     \n",
    "    global layer_0\n",
    "    \n",
    "    # clear out previous state, reset the layer to be all 0s\n",
    "    layer_0 *= 0\n",
    "    \n",
    "    # count how many times each word is used in the given review and store the results in layer_0 \n",
    "    for word in review.split(\" \"):\n",
    "        layer_0[0][word2index[word]] += 1"
   ]
  },
  {
   "cell_type": "code",
   "execution_count": 43,
   "metadata": {},
   "outputs": [],
   "source": [
    "update_input_layer(all_text_train[0])"
   ]
  },
  {
   "cell_type": "code",
   "execution_count": 48,
   "metadata": {},
   "outputs": [],
   "source": [
    "def get_target_for_label(label):\n",
    "    if(label == 'kiz'):\n",
    "        return 1\n",
    "    elif (label == 'kork'):\n",
    "        return 2\n",
    "    elif (label == 'mutlu'):\n",
    "        return 3\n",
    "    elif (label == 'uzul'):\n",
    "        return 4\n",
    "    else:\n",
    "        return 0 # neutral"
   ]
  },
  {
   "cell_type": "code",
   "execution_count": 49,
   "metadata": {},
   "outputs": [
    {
     "data": {
      "text/plain": [
       "1"
      ]
     },
     "execution_count": 49,
     "metadata": {},
     "output_type": "execute_result"
    }
   ],
   "source": [
    "get_target_for_label(labels_train[0])"
   ]
  },
  {
   "cell_type": "code",
   "execution_count": 50,
   "metadata": {},
   "outputs": [
    {
     "data": {
      "text/plain": [
       "'of alt kendi adım gör hayat küs'"
      ]
     },
     "execution_count": 50,
     "metadata": {},
     "output_type": "execute_result"
    }
   ],
   "source": [
    "all_text_train[0]"
   ]
  },
  {
   "cell_type": "code",
   "execution_count": null,
   "metadata": {},
   "outputs": [],
   "source": []
  },
  {
   "cell_type": "code",
   "execution_count": null,
   "metadata": {},
   "outputs": [],
   "source": []
  },
  {
   "cell_type": "code",
   "execution_count": null,
   "metadata": {},
   "outputs": [],
   "source": []
  },
  {
   "cell_type": "code",
   "execution_count": null,
   "metadata": {},
   "outputs": [],
   "source": []
  },
  {
   "cell_type": "code",
   "execution_count": null,
   "metadata": {},
   "outputs": [],
   "source": []
  },
  {
   "cell_type": "markdown",
   "metadata": {},
   "source": [
    "## Building a Neural Network\n",
    "- Do **not** add a non-linearity in the hidden layer. That is, do not use an activation function when calculating the hidden layer outputs."
   ]
  },
  {
   "cell_type": "code",
   "execution_count": null,
   "metadata": {},
   "outputs": [],
   "source": []
  },
  {
   "cell_type": "code",
   "execution_count": null,
   "metadata": {},
   "outputs": [],
   "source": []
  },
  {
   "cell_type": "code",
   "execution_count": null,
   "metadata": {},
   "outputs": [],
   "source": []
  },
  {
   "cell_type": "code",
   "execution_count": null,
   "metadata": {},
   "outputs": [],
   "source": []
  },
  {
   "cell_type": "code",
   "execution_count": null,
   "metadata": {},
   "outputs": [],
   "source": []
  },
  {
   "cell_type": "code",
   "execution_count": 8,
   "metadata": {},
   "outputs": [
    {
     "name": "stdout",
     "output_type": "stream",
     "text": [
      "MultinomialNB(alpha=1.0, class_prior=None, fit_prior=True)\n",
      "fold 1 accuracy: 0.8345864661654135\n",
      "fold 2 accuracy: 0.8463855421686747\n",
      "fold 3 accuracy: 0.8491704374057315\n",
      "fold 4 accuracy: 0.8235294117647058\n",
      "fold 5 accuracy: 0.8350983358547656\n",
      "Mean score: 0.8377540386718583\n",
      " \n",
      "LinearSVC(C=1.0, class_weight=None, dual=True, fit_intercept=True,\n",
      "     intercept_scaling=1, loss='squared_hinge', max_iter=1000,\n",
      "     multi_class='ovr', penalty='l2', random_state=None, tol=0.0001,\n",
      "     verbose=0)\n",
      "fold 1 accuracy: 0.8661654135338346\n",
      "fold 2 accuracy: 0.8780120481927711\n",
      "fold 3 accuracy: 0.8778280542986425\n",
      "fold 4 accuracy: 0.8778280542986425\n",
      "fold 5 accuracy: 0.8774583963691377\n",
      "Mean score: 0.8754583933386056\n",
      " \n"
     ]
    }
   ],
   "source": [
    "# WITH UNIGRAM COUNT VECTORIZER:\n",
    "import numpy as np\n",
    "from sklearn.naive_bayes import MultinomialNB\n",
    "from sklearn.svm import LinearSVC\n",
    "\n",
    "from sklearn.model_selection import StratifiedKFold \n",
    "from sklearn.feature_extraction.text import CountVectorizer\n",
    "from sklearn.metrics import accuracy_score\n",
    "# The folds are made by preserving the percentage of samples for each class.\n",
    "# use the original data, all_text!\n",
    "\n",
    "list_classifier= [MultinomialNB(), LinearSVC()]\n",
    "\n",
    "for clf in list_classifier:\n",
    "    print(clf)\n",
    "    skf = StratifiedKFold(n_splits=5,shuffle=True, random_state=123)\n",
    "    all_text= np.array(all_text)\n",
    "    labels= np.array(labels)\n",
    "    scores= []\n",
    "    i= 1\n",
    "    for train_index, test_index in skf.split(all_text, labels):\n",
    "        X_train, y_train = all_text[train_index], labels[train_index] \n",
    "        X_test, y_test = all_text[test_index], labels[test_index]\n",
    "\n",
    "        train_vectorizer = CountVectorizer()\n",
    "        X_train = train_vectorizer.fit_transform(X_train)\n",
    "        train_vocab= train_vectorizer.vocabulary_   \n",
    "        test_vectorizer = CountVectorizer(vocabulary=train_vocab)\n",
    "        X_test = test_vectorizer.fit_transform(X_test)\n",
    "        clf.fit(X_train, y_train)\n",
    "        sc= accuracy_score(y_test, clf.predict(X_test))\n",
    "        scores.append(sc)\n",
    "        print(\"fold \"+ str(i)+ \" accuracy: \"+ str(sc))\n",
    "        i+= 1\n",
    "    print(\"Mean score: \"+ str(np.mean(scores)))\n",
    "    print(\" \")"
   ]
  },
  {
   "cell_type": "code",
   "execution_count": 9,
   "metadata": {},
   "outputs": [
    {
     "name": "stdout",
     "output_type": "stream",
     "text": [
      "MultinomialNB(alpha=1.0, class_prior=None, fit_prior=True)\n",
      "fold 1 accuracy: 0.8\n",
      "fold 2 accuracy: 0.7966867469879518\n",
      "fold 3 accuracy: 0.8054298642533937\n",
      "fold 4 accuracy: 0.77526395173454\n",
      "fold 5 accuracy: 0.81089258698941\n",
      "Mean score: 0.7976546299930591\n",
      " \n",
      "LinearSVC(C=1.0, class_weight=None, dual=True, fit_intercept=True,\n",
      "     intercept_scaling=1, loss='squared_hinge', max_iter=1000,\n",
      "     multi_class='ovr', penalty='l2', random_state=None, tol=0.0001,\n",
      "     verbose=0)\n",
      "fold 1 accuracy: 0.8857142857142857\n",
      "fold 2 accuracy: 0.8855421686746988\n",
      "fold 3 accuracy: 0.8868778280542986\n",
      "fold 4 accuracy: 0.8883861236802413\n",
      "fold 5 accuracy: 0.8835098335854765\n",
      "Mean score: 0.8860060479418002\n",
      " \n"
     ]
    }
   ],
   "source": [
    "# WITH UNIGRAM TF VECTORIZER:\n",
    "import numpy as np\n",
    "from sklearn.naive_bayes import MultinomialNB\n",
    "from sklearn.svm import LinearSVC\n",
    "\n",
    "from sklearn.model_selection import StratifiedKFold \n",
    "from sklearn.feature_extraction.text import CountVectorizer\n",
    "from sklearn.metrics import accuracy_score\n",
    "# The folds are made by preserving the percentage of samples for each class.\n",
    "# use the original data, all_text!\n",
    "\n",
    "from sklearn.feature_extraction.text import TfidfTransformer\n",
    "\n",
    "list_classifier= [MultinomialNB(), LinearSVC()]\n",
    "\n",
    "for clf in list_classifier:\n",
    "    print(clf)\n",
    "    skf = StratifiedKFold(n_splits=5,shuffle=True, random_state=123)\n",
    "    all_text= np.array(all_text)\n",
    "    labels= np.array(labels)\n",
    "    scores= []\n",
    "    i= 1\n",
    "    for train_index, test_index in skf.split(all_text, labels):\n",
    "        X_train, y_train = all_text[train_index], labels[train_index] \n",
    "        X_test, y_test = all_text[test_index], labels[test_index]\n",
    "\n",
    "        train_vectorizer = CountVectorizer()\n",
    "        X_train = train_vectorizer.fit_transform(X_train)\n",
    "        transformer_tf= TfidfTransformer(use_idf= False, norm= 'l2') # if normalize None, it is the same as CountVect\n",
    "        # l2 normalization: like percentage of values\n",
    "        X_train= transformer_tf.fit_transform(X_train)\n",
    "           \n",
    "        train_vocab= train_vectorizer.vocabulary_   \n",
    "        test_vectorizer = CountVectorizer(vocabulary=train_vocab)\n",
    "        X_test = test_vectorizer.fit_transform(X_test)\n",
    "        X_test= transformer_tf.fit_transform(X_test)\n",
    "        \n",
    "        clf.fit(X_train, y_train)\n",
    "        sc= accuracy_score(y_test, clf.predict(X_test))\n",
    "        scores.append(sc)\n",
    "        print(\"fold \"+ str(i)+ \" accuracy: \"+ str(sc))\n",
    "        i+= 1\n",
    "    print(\"Mean score: \"+ str(np.mean(scores)))\n",
    "    print(\" \")\n",
    "\n"
   ]
  },
  {
   "cell_type": "code",
   "execution_count": 10,
   "metadata": {},
   "outputs": [
    {
     "name": "stdout",
     "output_type": "stream",
     "text": [
      "MultinomialNB(alpha=1.0, class_prior=None, fit_prior=True)\n",
      "fold 1 accuracy: 0.8\n",
      "fold 2 accuracy: 0.8012048192771084\n",
      "fold 3 accuracy: 0.8069381598793364\n",
      "fold 4 accuracy: 0.7782805429864253\n",
      "fold 5 accuracy: 0.8093797276853253\n",
      "Mean score: 0.799160649965639\n",
      " \n",
      "LinearSVC(C=1.0, class_weight=None, dual=True, fit_intercept=True,\n",
      "     intercept_scaling=1, loss='squared_hinge', max_iter=1000,\n",
      "     multi_class='ovr', penalty='l2', random_state=None, tol=0.0001,\n",
      "     verbose=0)\n",
      "fold 1 accuracy: 0.8872180451127819\n",
      "fold 2 accuracy: 0.8855421686746988\n",
      "fold 3 accuracy: 0.8838612368024132\n",
      "fold 4 accuracy: 0.8838612368024132\n",
      "fold 5 accuracy: 0.8789712556732224\n",
      "Mean score: 0.8838907886131059\n",
      " \n"
     ]
    }
   ],
   "source": [
    "# WITH UNIGRAM TF-idf VECTORIZER:\n",
    "import numpy as np\n",
    "from sklearn.naive_bayes import MultinomialNB\n",
    "from sklearn.svm import LinearSVC\n",
    "\n",
    "from sklearn.model_selection import StratifiedKFold \n",
    "from sklearn.feature_extraction.text import CountVectorizer\n",
    "from sklearn.metrics import accuracy_score\n",
    "# The folds are made by preserving the percentage of samples for each class.\n",
    "# use the original data, all_text!\n",
    "\n",
    "\n",
    "from sklearn.feature_extraction.text import TfidfTransformer\n",
    "\n",
    "list_classifier= [MultinomialNB(), LinearSVC()]\n",
    "\n",
    "for clf in list_classifier:\n",
    "    print(clf)\n",
    "    skf = StratifiedKFold(n_splits=5,shuffle=True, random_state=123)\n",
    "    all_text= np.array(all_text)\n",
    "    labels= np.array(labels)\n",
    "    scores= []\n",
    "    i= 1\n",
    "    for train_index, test_index in skf.split(all_text, labels):\n",
    "        X_train, y_train = all_text[train_index], labels[train_index] \n",
    "        X_test, y_test = all_text[test_index], labels[test_index]\n",
    "\n",
    "        train_vectorizer = CountVectorizer()\n",
    "        X_train = train_vectorizer.fit_transform(X_train)\n",
    "        transformer_tf= TfidfTransformer(use_idf= True, norm= 'l2', smooth_idf=True) \n",
    "        # if normalize None, it is the same as CountVect\n",
    "        # l2 normalization: like percentage of values\n",
    "        X_train= transformer_tf.fit_transform(X_train)\n",
    "           \n",
    "        train_vocab= train_vectorizer.vocabulary_   \n",
    "        test_vectorizer = CountVectorizer(vocabulary=train_vocab)\n",
    "        X_test = test_vectorizer.fit_transform(X_test)\n",
    "        X_test= transformer_tf.fit_transform(X_test)\n",
    "        \n",
    "        clf.fit(X_train, y_train)\n",
    "        sc= accuracy_score(y_test, clf.predict(X_test))\n",
    "        scores.append(sc)\n",
    "        print(\"fold \"+ str(i)+ \" accuracy: \"+ str(sc))\n",
    "        i+= 1\n",
    "    print(\"Mean score: \"+ str(np.mean(scores)))\n",
    "    print(\" \")\n",
    "\n"
   ]
  },
  {
   "cell_type": "code",
   "execution_count": null,
   "metadata": {
    "collapsed": true
   },
   "outputs": [],
   "source": []
  },
  {
   "cell_type": "code",
   "execution_count": null,
   "metadata": {
    "collapsed": true
   },
   "outputs": [],
   "source": []
  }
 ],
 "metadata": {
  "kernelspec": {
   "display_name": "Python 3",
   "language": "python",
   "name": "python3"
  },
  "language_info": {
   "codemirror_mode": {
    "name": "ipython",
    "version": 3
   },
   "file_extension": ".py",
   "mimetype": "text/x-python",
   "name": "python",
   "nbconvert_exporter": "python",
   "pygments_lexer": "ipython3",
   "version": "3.6.6"
  }
 },
 "nbformat": 4,
 "nbformat_minor": 2
}
